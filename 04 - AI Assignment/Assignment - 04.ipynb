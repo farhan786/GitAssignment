{
 "cells": [
  {
   "cell_type": "markdown",
   "id": "8379f9c4",
   "metadata": {},
   "source": [
    "# Assignment 04\n",
    "## Login system"
   ]
  },
  {
   "cell_type": "code",
   "execution_count": 11,
   "id": "8a5710fd",
   "metadata": {},
   "outputs": [
    {
     "name": "stdout",
     "output_type": "stream",
     "text": [
      "Enter your email/phone/username: 03400282336\n",
      "Enter your password: 123\n",
      "{'id': 1, 'name': 'Muhammad Farhan Aslam', 'username': 'farhan', 'password': '123', 'email': 'imfarhan1996@outlook.com', 'msisdn': '03400282336'}\n"
     ]
    }
   ],
   "source": [
    "users = [{'id':1,'name':'Muhammad Farhan Aslam','username':'farhan','password':'123','email':'imfarhan1996@outlook.com','msisdn':'03400282336'},\n",
    "         {'id':2,'name':'Abid Aslam','username':'abid','password':'123','email':'abid@gmail.com','msisdn':'03332215154'},\n",
    "         {'id':3,'name':'Adil Aslam','username':'adil','password':'123','email':'adil@gmail.com','msisdn':'03212887824'},\n",
    "         {'id':4,'name':'Asad Aslam','username':'asad','password':'123','email':'asad@gmail.com','msisdn':'03432249615'}]\n",
    "\n",
    "name = input('Enter your email/phone/username: ')\n",
    "_pass = input('Enter your password: ')\n",
    "\n",
    "for user in users:\n",
    "    \n",
    "    if (name == user['username'] or name == user['email'] or name == user['msisdn']) and _pass == user['password']:\n",
    "        print(user)\n",
    "        break\n",
    "\n",
    "else:\n",
    "    print('Invalid User. Please try again')\n",
    "\n"
   ]
  },
  {
   "cell_type": "markdown",
   "id": "8fdd79b9",
   "metadata": {},
   "source": [
    "## Table"
   ]
  },
  {
   "cell_type": "code",
   "execution_count": 8,
   "id": "ee1164d7",
   "metadata": {},
   "outputs": [
    {
     "name": "stdout",
     "output_type": "stream",
     "text": [
      "Enter the table: 2\n",
      "Enter the range of table: 10\n",
      "2 x 1 = 2\n",
      "2 x 2 = 4\n",
      "2 x 3 = 6\n",
      "2 x 4 = 8\n",
      "2 x 5 = 10\n",
      "2 x 6 = 12\n",
      "2 x 7 = 14\n",
      "2 x 8 = 16\n",
      "2 x 9 = 18\n",
      "2 x 10 = 20\n"
     ]
    }
   ],
   "source": [
    "number = int(input('Enter the table: '))\n",
    "_range = int(input('Enter the range of table: '))\n",
    "\n",
    "for num in range(1,_range + 1):\n",
    "    print(f'{number} x {num} = {num * number}')"
   ]
  },
  {
   "cell_type": "code",
   "execution_count": 10,
   "id": "7bd13a8a",
   "metadata": {},
   "outputs": [
    {
     "name": "stdout",
     "output_type": "stream",
     "text": [
      "Enter the table lenght that you want to print: 5\n",
      "Enter the range of table: 4\n",
      "2 x 1 = 2\n",
      "2 x 2 = 4\n",
      "2 x 3 = 6\n",
      "2 x 4 = 8\n",
      "====================================\n",
      "3 x 1 = 3\n",
      "3 x 2 = 6\n",
      "3 x 3 = 9\n",
      "3 x 4 = 12\n",
      "====================================\n",
      "4 x 1 = 4\n",
      "4 x 2 = 8\n",
      "4 x 3 = 12\n",
      "4 x 4 = 16\n",
      "====================================\n",
      "5 x 1 = 5\n",
      "5 x 2 = 10\n",
      "5 x 3 = 15\n",
      "5 x 4 = 20\n",
      "====================================\n"
     ]
    }
   ],
   "source": [
    "table_lenght = int(input('Enter the table lenght that you want to print: '))\n",
    "_range = int(input('Enter the range of table: '))\n",
    "\n",
    "table = 2\n",
    "\n",
    "while table <= table_lenght:\n",
    "    for num in range(1,_range+1):\n",
    "        print(f'{table} x {num} = {num * table}')\n",
    "    print('====================================')\n",
    "    table += 1"
   ]
  },
  {
   "cell_type": "code",
   "execution_count": null,
   "id": "8e7837aa",
   "metadata": {},
   "outputs": [],
   "source": []
  }
 ],
 "metadata": {
  "kernelspec": {
   "display_name": "Python 3 (ipykernel)",
   "language": "python",
   "name": "python3"
  },
  "language_info": {
   "codemirror_mode": {
    "name": "ipython",
    "version": 3
   },
   "file_extension": ".py",
   "mimetype": "text/x-python",
   "name": "python",
   "nbconvert_exporter": "python",
   "pygments_lexer": "ipython3",
   "version": "3.9.13"
  }
 },
 "nbformat": 4,
 "nbformat_minor": 5
}
